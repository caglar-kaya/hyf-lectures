{
 "cells": [
  {
   "cell_type": "markdown",
   "metadata": {},
   "source": [
    "# Class 34 - Javascript - Week 3"
   ]
  },
  {
   "cell_type": "markdown",
   "metadata": {},
   "source": [
    "## DanijelC"
   ]
  },
  {
   "cell_type": "code",
   "execution_count": 1,
   "metadata": {},
   "outputs": [
    {
     "data": {
      "text/plain": [
       "'blabla'"
      ]
     },
     "execution_count": 1,
     "metadata": {},
     "output_type": "execute_result"
    }
   ],
   "source": [
    "String.prototype.toJadenCase = function () {\n",
    "  // Check for invalid strings\n",
    "  if (this === null || this === undefined || this === \"\") {\n",
    "    return \"\";\n",
    "  }\n",
    "\n",
    "  // Capitalize first letter\n",
    "  let capitalStr = this.charAt(0).toUpperCase();\n",
    "  let char = \"\";\n",
    "\n",
    "  // Loop through the string and capitalize all letters\n",
    "  // following a space\n",
    "  for (let i = 1; i < this.length; i++) {\n",
    "    if (this.charAt(i - 1) === \" \" && this.charAt(i) !== \" \") {\n",
    "      char = this.charAt(i).toUpperCase();\n",
    "    } else {\n",
    "      char = this.charAt(i);\n",
    "    }\n",
    "\n",
    "    capitalStr += char;\n",
    "  }\n",
    "  return capitalStr;\n",
    "};\n",
    "\n",
    "String.prototype.toJadenCase = 'blabla'; // XXXXXXXX this will overwrite the original fn"
   ]
  },
  {
   "cell_type": "markdown",
   "metadata": {},
   "source": [
    "## Caglar\n",
    "\n",
    "My code:"
   ]
  },
  {
   "cell_type": "code",
   "execution_count": 2,
   "metadata": {},
   "outputs": [
    {
     "name": "stdout",
     "output_type": "stream",
     "text": [
      "Not Jaden-Cased: How can mirrors be real if our eyes aren't real\n",
      "This Is Meeee!\n",
      "a: THis Is meeee!\n",
      "Jaden-Cased: How Can Mirrors Be Real If Our Eyes Aren't Real\n"
     ]
    }
   ],
   "source": [
    "const originalString = \"How can mirrors be real if our eyes aren't real\";\n",
    "console.log(`Not Jaden-Cased: ${originalString}`);\n",
    "\n",
    "function convertToJadenCase(str) {\n",
    "  str = str.toLowerCase();\n",
    "  const arrayWords = str.split(\" \");\n",
    "  const newArrayWords = [];\n",
    "  for (let word of arrayWords) {\n",
    "    word = word.charAt(0).toUpperCase() + word.substr(1);\n",
    "    newArrayWords.push(word);\n",
    "  }\n",
    "  const result = newArrayWords.join(\" \");\n",
    "  return result;\n",
    "}\n",
    "\n",
    "const a = \"THis Is meeee!\";\n",
    "console.log(convertToJadenCase(a));\n",
    "console.log(`a: ${a}`);\n",
    "\n",
    "console.log(`Jaden-Cased: ${convertToJadenCase(originalString)}`);\n"
   ]
  },
  {
   "cell_type": "markdown",
   "metadata": {},
   "source": [
    "## Mohamed Abdelhamed\n",
    "\n",
    "I have no questions this week but that is an exercise  in which i pass parameter to function disorderly."
   ]
  },
  {
   "cell_type": "code",
   "execution_count": 3,
   "metadata": {},
   "outputs": [
    {
     "name": "stdout",
     "output_type": "stream",
     "text": [
      "Hello Mohammed, Your age Is 30 , and Congrates! You are succeded\n",
      "Hello Mohammed, Your age Is 30 , and Congrates! You are succeded\n",
      "Hello Mohammed, Your age Is 30 , and Hard luck! you have to try again\n",
      "Hello Mohammed, Your age Is 30 , and Hard luck! you have to try again\n"
     ]
    }
   ],
   "source": [
    "function showStudentInfo(studentName, studentAge, isSucceded) {\n",
    "    let info = [studentName, studentAge, isSucceded],\n",
    "      name,\n",
    "      age,\n",
    "      succeded,\n",
    "      resultSentance;\n",
    "  \n",
    "    for (let i = 0; i < 3; i++) {\n",
    "      typeof info[i] === \"string\"\n",
    "        ? (name = info[i])\n",
    "        : typeof info[i] === \"number\"\n",
    "        ? (age = info[i])\n",
    "        : typeof info[i] === \"boolean\"\n",
    "        ? (succeded = info[i])\n",
    "        : \"incorrect data type\";\n",
    "    }\n",
    "\n",
    "  \n",
    "    succeded === true\n",
    "      ? (resultSentance = \"and Congrates! You are succeded\")\n",
    "      : (resultSentance = \"and Hard luck! you have to try again\");\n",
    "    console.log(`Hello ${name}, Your age Is ${age} , ${resultSentance}`);\n",
    "  }\n",
    "  showStudentInfo(\"Mohammed\", 30, true);\n",
    "  showStudentInfo(30, \"Mohammed\", true);\n",
    "  showStudentInfo(false, 30, \"Mohammed\");\n",
    "  showStudentInfo(false, \"Mohammed\", 30);"
   ]
  },
  {
   "cell_type": "markdown",
   "metadata": {},
   "source": [
    "## Daniel Wang"
   ]
  },
  {
   "cell_type": "code",
   "execution_count": 4,
   "metadata": {},
   "outputs": [
    {
     "name": "stdout",
     "output_type": "stream",
     "text": [
      "hOw cAn mIrRoRs bE ReAl iF OuR EyEs aReN'T ReAl\n",
      "How Can Mirrors Be Real If Our Eyes Aren't Real\n"
     ]
    }
   ],
   "source": [
    "let textSample = `hOw cAn mIrRoRs bE ReAl iF OuR EyEs aReN'T ReAl`;\n",
    "console.log(textSample);\n",
    "//convert all words into small case first and then split them into an array for the next step\n",
    "let smCaseArr = textSample.toLowerCase().split(\" \");\n",
    "//This is to let each word in the array captialize the its first letter and then \"smallfy\" all other letters, then join them together.\n",
    "//Slice would first take the first letter, namely slice(0,1), and then take the rest, namely, slice(1)\n",
    "//I use map here because I need to create an new array. Check it out:\n",
    "//https://stackoverflow.com/questions/29719329/convert-array-into-upper-case/29719347\n",
    "let jadCaseArr = smCaseArr.map(word =>  word.slice(0, 1).toUpperCase() + word.slice(1).toLowerCase());\n",
    "// joining the array back again using arr.join(), where seprator by default is \",\" you can change it by for example \" \".\n",
    "console.log(jadCaseArr.join(\" \"));"
   ]
  },
  {
   "cell_type": "markdown",
   "metadata": {},
   "source": [
    "## Abdulrahman Sadek\n",
    "\n",
    "I dont have question but i have excercise maybe we can do togather :\n",
    "\n",
    "Credit to https://adventofcode.com/ for this exercise\n",
    "\n",
    "In the list below you have an array of numbers. The goal is to find the two numbers that add up to 2020.Once you have found those numbers, multiply the numbers and store the result of that in the result variable. */"
   ]
  },
  {
   "cell_type": "code",
   "execution_count": 5,
   "metadata": {},
   "outputs": [
    {
     "name": "stderr",
     "output_type": "stream",
     "text": [
      "Assertion failed: The result is not correct, it is undefined, but should be 514579\n"
     ]
    }
   ],
   "source": [
    "const list = [1721, 979, 366, 299, 675, 1456]; // n items  \n",
    "let result;\n",
    "\n",
    "const target = 2020;\n",
    "\n",
    "// Write your code here\n",
    "\n",
    "let cache = {}\n",
    "\n",
    "const calc = (x) => {\n",
    "  for (let i = 0; i < x.length; i++) {\n",
    "    for (let j = 0; j < x.length; j++) {\n",
    "      console.log(`${i}: ${j}`); // n ^ 2 items\n",
    "    }\n",
    "  }\n",
    "}\n",
    "\n",
    "// TEST CODE, do not change\n",
    "console.assert(result === 514579, `The result is not correct, it is ${result}, but should be 514579`);"
   ]
  },
  {
   "cell_type": "markdown",
   "metadata": {},
   "source": [
    "## Caglar\n",
    "\n",
    "\n",
    "I don't feel very comfortable about debugging in [JS Tutor](https://pythontutor.com/javascript.html#mode=edit), VSCode Debugger, and Browser Devtools Debugger.\n",
    "</br>\n",
    "I have provided code below from my previous exercises and also **put a small bug inside it consciously**.\n",
    "</br>\n",
    "Can we debug it in these 3 debuggers to find out how to debug and to see similarities and differences between these 3 debuggers.\n"
   ]
  },
  {
   "cell_type": "code",
   "execution_count": 6,
   "metadata": {},
   "outputs": [
    {
     "name": "stdout",
     "output_type": "stream",
     "text": [
      "[ 2 ]\n",
      "Total number of prime numbers until 23: 1\n"
     ]
    }
   ],
   "source": [
    "// isPrime function checks whether a number is prime or not.\n",
    "const isPrime = (number) => {\n",
    "  if (number <= 1) {\n",
    "    return false;\n",
    "  }\n",
    "  for (let i = 2; i < number; i++) {\n",
    "    if (number % i !== 0) {\n",
    "      return false;\n",
    "    }\n",
    "  }\n",
    "  return true;\n",
    "};\n",
    "\n",
    "// arrayPrimes function logs prime numbers until a specific number and\n",
    "// calculates the number of primes\n",
    "const arrayPrimes = (number) => {\n",
    "  let count = 0;\n",
    "  const primeArray = [];\n",
    "  for (let i = 0; i <= number; i++) {\n",
    "    if (isPrime(i)) {\n",
    "      count++;\n",
    "      primeArray.push(i);\n",
    "    }\n",
    "  }\n",
    "  console.log(primeArray);\n",
    "  console.log(`Total number of prime numbers until ${number}: ${count}`);\n",
    "};\n",
    "\n",
    "arrayPrimes(23);\n"
   ]
  },
  {
   "cell_type": "markdown",
   "metadata": {},
   "source": [
    "## Said Yeginoglu\n",
    "I have a question about deconstruction. In a case like :\n",
    "\n",
    "\n",
    "\n",
    "I want to get only 2nd items of each object by deconstruction. Should I always use for loop (or similar) to get that.? I have tried `let [ {2} ] = arr`  but it gives me only 2nd value of the first object."
   ]
  },
  {
   "cell_type": "code",
   "execution_count": 7,
   "metadata": {},
   "outputs": [
    {
     "name": "stdout",
     "output_type": "stream",
     "text": [
      "vals: B,BB\n",
      "Masters\n"
     ]
    }
   ],
   "source": [
    "const arr = [\n",
    "  {\n",
    "    1: \"A\",\n",
    "    2: \"B\",\n",
    "  },\n",
    "  {\n",
    "    1: \"AA\",\n",
    "    2: \"BB\",\n",
    "  },\n",
    "];\n",
    "\n",
    "const vals = arr.map(x => x['2']);\n",
    "\n",
    "console.log(`vals: ${vals}`);\n",
    "\n",
    "\n",
    "const user = {\n",
    "  id: 339,\n",
    "  name: 'Fred',\n",
    "  age: 42,\n",
    "  education: {\n",
    "    degree: 'Masters'\n",
    "  }\n",
    "};\n",
    "\n",
    "const {education: {degree}} = user;\n",
    "console.log(degree);\n"
   ]
  },
  {
   "cell_type": "markdown",
   "metadata": {},
   "source": [
    "## Ahmed\n",
    "\n",
    "Hello all  , My questions :\n",
    "1. How and when we have to use (this) method?\n",
    "\n",
    "### This keyword in js\n",
    "\n",
    "- [This in js](https://www.w3schools.com/js/js_this.asp)\n",
    "- [This keyword in js \"Interactive\"](https://www.codecademy.com/courses/introduction-to-javascript/lessons/advanced-objects/exercises/adv-this)"
   ]
  },
  {
   "cell_type": "markdown",
   "metadata": {},
   "source": [
    "## George.Roumieh\n",
    "\n",
    "My question is about testing , is testing required in all programs ?, and I am as a programer what is the best way of testing should I use ?\n",
    "\n",
    "As I see in the homework we use test just for special cases not generally cases , how can I test complex and big code ?"
   ]
  },
  {
   "cell_type": "code",
   "execution_count": 8,
   "metadata": {},
   "outputs": [],
   "source": [
    "// var expect = chai.expect;\n",
    "\n",
    "// expect(isPrime(-1)).to.throw(Error);\n",
    "// expect(isPrime(0)).to.be.a(0);\n",
    "// expect(isPrime(null)).to.be.a(0);\n",
    "// expect(isPrime(undefined)).to.be.a(0);\n",
    "// expect(isPrime(23)).to.be.a(7);\n"
   ]
  },
  {
   "cell_type": "markdown",
   "metadata": {},
   "source": [
    "## Parviz\n",
    "\n",
    "My Questions:\n",
    "My question is related to the assertion. It is difficult for me to understand its essence and how it works. Can you explain this with an example I saw on the internet?\n",
    "\n",
    "```\n",
    "function test__addsIntegers() {\n",
    "\n",
    "    // expect a number of passed assertions\n",
    "    var passed = 3;\n",
    "\n",
    "    // number of assertions to be reduced and added as Booleans\n",
    "    var assertions = [\n",
    "\n",
    "        assert( add(0, 0) == 0, 'add(0, 0) should return 0...'),\n",
    "        assert( add(0, -1) == -1, 'add(0, -1) should return -1...'),\n",
    "        assert( add(0, 1) == 1, 'add(0, 1) should return 1...')\n",
    "\n",
    "    ].reduce(function(previousValue, currentValue){\n",
    "\n",
    "        return previousValue + current;\n",
    "\n",
    "    });\n",
    "\n",
    "    if (assertions === passed) {\n",
    "\n",
    "        console.log(\"add(x,y)... did return the sum of two integers\");\n",
    "        return true;\n",
    "\n",
    "    } else {\n",
    "\n",
    "        console.log(\"add(x,y)... does not reliably return the sum of two integers\");\n",
    "        return false;\n",
    "\n",
    "    }\n",
    "}\n",
    "```\n",
    "\n",
    "2.  I used browser debuggers before. I try to set up VScode debuggers and followed all instructions are in the website link but it doesn't work. As you can see from the photos the color other debug side bar is not changing and the run-debug menu is not appearing on the top. Also you can see message below that showing problem in the settings.json file. I did screenshots and put here. What is the problem with those codes?\n"
   ]
  },
  {
   "cell_type": "code",
   "execution_count": 9,
   "metadata": {},
   "outputs": [
    {
     "name": "stdout",
     "output_type": "stream",
     "text": [
      "previousValue: undefined\n",
      "currentValue: undefined\n",
      "previousValue: NaN\n",
      "currentValue: undefined\n",
      "add(x,y)... does not reliably return the sum of two integers\n"
     ]
    },
    {
     "data": {
      "text/plain": [
       "false"
      ]
     },
     "execution_count": 9,
     "metadata": {},
     "output_type": "execute_result"
    }
   ],
   "source": [
    "const add = (a, b) => a + b;\n",
    "\n",
    "function test__addsIntegers() {\n",
    "  // expect a number of passed assertions\n",
    "  var passed = 3;\n",
    "\n",
    "  // number of assertions to be reduced and added as Booleans\n",
    "  var assertions = [\n",
    "    assert(add(0, 0) == 0, \"add(0, 0) should return 0...\"),\n",
    "    assert(add(0, -1) == -1, \"add(0, -1) should return -1...\"),\n",
    "    assert(add(0, 1) == 1, \"add(0, 1) should return 1...\"),\n",
    "  ].reduce(function (previousValue, currentValue) {\n",
    "    console.log(`previousValue: ${previousValue}`);\n",
    "    console.log(`currentValue: ${currentValue}`);\n",
    "    return previousValue + currentValue;\n",
    "  });\n",
    "\n",
    "  if (assertions === passed) {\n",
    "    console.log(\"add(x,y)... did return the sum of two integers\");\n",
    "    return true;\n",
    "  } else {\n",
    "    console.log(\"add(x,y)... does not reliably return the sum of two integers\");\n",
    "    return false;\n",
    "  }\n",
    "}\n",
    "\n",
    "test__addsIntegers();\n"
   ]
  },
  {
   "cell_type": "code",
   "execution_count": 11,
   "metadata": {},
   "outputs": [
    {
     "ename": "AssertionError",
     "evalue": "add(0, 1) should not be 0...",
     "output_type": "error",
     "traceback": [
      "node:assert:400",
      "    throw err;",
      "    ^",
      "",
      "AssertionError [ERR_ASSERTION]: add(0, 1) should not be 0...",
      "    at evalmachine.<anonymous>:9:1",
      "    at Script.runInThisContext (node:vm:129:12)",
      "    at Object.runInThisContext (node:vm:305:38)",
      "    at run ([eval]:1054:15)",
      "    at onRunRequest ([eval]:888:18)",
      "    at onMessage ([eval]:848:13)",
      "    at process.emit (node:events:390:28)",
      "    at emit (node:internal/child_process:917:12)",
      "    at processTicksAndRejections (node:internal/process/task_queues:84:21)"
     ]
    }
   ],
   "source": [
    "// const add = (a, b) => a + b;\n",
    "\n",
    "\n",
    "assert(add(0, 0) == 0, \"add(0, 0) should return 0...\") // true \n",
    "assert(true, \"add(0, 0) should return 0...\");\n",
    "\n",
    "// wrong \n",
    "\n",
    "assert(add(1, 0) == 0, \"add(0, 1) should not be 0...\") \n",
    "assert(false, \"add(0, 0) false false false false...\");\n",
    "\n",
    "const multiply = (a, b) => a * b;\n"
   ]
  },
  {
   "cell_type": "markdown",
   "metadata": {},
   "source": [
    "## Daniel Wang \n",
    "\n",
    "1. In the code from this week's assignment [here](https://github.com/HackYourFuture/JavaScript/blob/main/Week2/practice-exercises/solutions/5-who-wants-a-drink.js), the concept of double \"for loop\" is shown, but I still can't figure out how this double loop works. Also, I've tried multiple ways of solving it, which is [here](https://github.com/Danielboi886/JavaScript/blob/main/Week2/practice-exercises/5-who-wants-a-drink.js) this one. It didn't work out and I was wondering which part I did wrong.\n",
    "\n",
    "2. I am still not very sure about how forEach() is used."
   ]
  },
  {
   "cell_type": "code",
   "execution_count": 1,
   "metadata": {},
   "outputs": [
    {
     "name": "stdout",
     "output_type": "stream",
     "text": [
      "result: 40\n",
      "mapResult: 40\n",
      "[ 30, 90 ]\n"
     ]
    }
   ],
   "source": [
    "const blaArr = [1, 2, 3, 4, 5]\n",
    "\n",
    "let result = 0\n",
    "\n",
    "blaArr.forEach((x, index) => {\n",
    "  result = result +  (x * index)\n",
    "});\n",
    "\n",
    "console.log(`result: ${result}`);\n",
    "\n",
    "let mapres = 0;\n",
    "\n",
    "const mapResult = blaArr\n",
    "  .map((x, index) => mapres + x * index)\n",
    "  .reduce((prev, curr) => prev + curr);\n",
    "\n",
    "console.log(`mapResult: ${mapResult}`);\n",
    "\n",
    "const res = blaArr\n",
    "  .map((x, index) => x + index)\n",
    "  .map(y => y * 10)\n",
    "  .filter(x => x % 30 === 0);\n",
    "\n",
    "console.log(res);"
   ]
  },
  {
   "cell_type": "code",
   "execution_count": 1,
   "metadata": {},
   "outputs": [
    {
     "name": "stdout",
     "output_type": "stream",
     "text": [
      "Hey guys, I brought a water, lemonade, water, cola, cola!\n",
      "Hey guys, I brought a water, water, cola, cola, lemonade!\n",
      "Hey guys, I brought a cola, cola, water, lemonade, lemonade!\n",
      "Hey guys, I brought a water, cola, lemonade, lemonade, water!\n",
      "Hey guys, I brought a water, lemonade, lemonade, cola, cola!\n",
      "Hey guys, I brought a water, cola, cola, water, lemonade!\n",
      "Hey guys, I brought a cola, lemonade, lemonade, water, water!\n",
      "Hey guys, I brought a water, water, cola, lemonade, cola!\n",
      "Hey guys, I brought a cola, lemonade, water, lemonade, cola!\n",
      "Hey guys, I brought a cola, water, water, lemonade, cola!\n",
      "Hey guys, I brought a cola, cola, water, lemonade, water!\n",
      "Hey guys, I brought a water, lemonade, lemonade, water, cola!\n",
      "Hey guys, I brought a water, water, cola, lemonade, lemonade!\n",
      "Hey guys, I brought a cola, water, water, lemonade, cola!\n",
      "Hey guys, I brought a lemonade, cola, cola, lemonade, water!\n",
      "Hey guys, I brought a water, water, lemonade, lemonade, cola!\n",
      "Hey guys, I brought a water, cola, cola, water, lemonade!\n",
      "Hey guys, I brought a lemonade, lemonade, water, water, cola!\n",
      "Hey guys, I brought a cola, lemonade, water, lemonade, water!\n",
      "Hey guys, I brought a water, lemonade, lemonade, water, cola!\n"
     ]
    }
   ],
   "source": [
    "const bringAllDrinks = () => {\n",
    "  const drinkTypes = [\"cola\", \"lemonade\", \"water\"];\n",
    "  const drinkTray = [];\n",
    "\n",
    "  let trayCounter = {};\n",
    "\n",
    "  // This is one way of doing it, there are many more. It hopefully showcases a nice use case of the double for loop\n",
    "  // It could also have been written with a while loop that would be a little more efficient\n",
    "\n",
    "  const bringAnotherDrink = () => {\n",
    "    const randomIndex = Math.floor(Math.random() * drinkTypes.length);\n",
    "    return drinkTypes[randomIndex];\n",
    "  };\n",
    "\n",
    "  for (let i = 0; i < drinkTypes.length; i++) {\n",
    "    for (let j = 0; j < 2; j++) {\n",
    "      if (drinkTray.length < 5) {\n",
    "        let choosedDrink = bringAnotherDrink();\n",
    "\n",
    "        while (trayCounter[choosedDrink] >= 2) {\n",
    "          choosedDrink = bringAnotherDrink();\n",
    "        }\n",
    "\n",
    "        trayCounter[choosedDrink] = trayCounter[choosedDrink]\n",
    "          ? trayCounter[choosedDrink] + 1\n",
    "          : 1;\n",
    "\n",
    "        drinkTray.push(choosedDrink);\n",
    "      }\n",
    "    }\n",
    "  }\n",
    "\n",
    "  return drinkTray;\n",
    "};\n",
    "\n",
    "for (let i = 0; i < 20; i++) {\n",
    "  console.log(`Hey guys, I brought a ${bringAllDrinks().join(\", \")}!`);\n",
    "}\n"
   ]
  },
  {
   "cell_type": "markdown",
   "metadata": {},
   "source": [
    "## Burak\n",
    "My first question is about scope and functions. \n",
    "\n",
    "```\n",
    "\tlet fancyNumber = 42;\n",
    "\tfunction fishy(numberFromOutside) {\n",
    "\t console.log(fancyNumber); //42\n",
    "\t numberFromOutside = 33;\n",
    "\t console.log(numberFromOutside); //33\n",
    "\t}\n",
    "\tfishy();\n",
    "\tconsole.log(fancyNumber); //42\n",
    "```\n",
    "In the first example, variable is passed as an argument.\n",
    "\n",
    "```\n",
    "\tfunction fishy() {\n",
    "\t console.log(fancyNumber); //42\n",
    "\t fancyNumber = 33;\n",
    "\t console.log(fancyNumber); //33\n",
    "\t}\n",
    "\tfishy();\n",
    "\tconsole.log(fancyNumber); //33\n",
    "```\n",
    "However, in both examples, a new value is assigned. Why do we get different outputs?\n",
    "\n",
    "2.  My second question is about spread operator. I saw such an example in this week's extra reading material.\n",
    "\n",
    "```\n",
    "\tlet args = [1, 2, 3];\n",
    "\tfunction test() {\n",
    "\t console.log(args);\n",
    "\t} \n",
    "\ttest(...args); // [ 1, 2, 3 ]\n",
    "```\n",
    "However, we can do this without using the spread operator.\n",
    "\n",
    "`test(args); // [ 1, 2, 3 ]`\n",
    "\n",
    "When and in which situations should we use the spread operator in functions?"
   ]
  },
  {
   "cell_type": "code",
   "execution_count": 2,
   "metadata": {},
   "outputs": [
    {
     "name": "stdout",
     "output_type": "stream",
     "text": [
      "[]\n",
      "[ 1, 2 ]\n",
      "[ 1, 2, 3, 5, 6 ]\n"
     ]
    }
   ],
   "source": [
    "function test(...args) {\n",
    "  console.log(args);\n",
    "}\n",
    "\n",
    "test();\n",
    "\n",
    "test(1, 2); \n",
    "\n",
    "test(1, 2, 3, 5, 6); "
   ]
  },
  {
   "cell_type": "markdown",
   "metadata": {},
   "source": [
    "## Farkad\n",
    "\n",
    "Hello, My Q is when and why I have to use arrow functions and when I have not use?"
   ]
  },
  {
   "cell_type": "code",
   "execution_count": 1,
   "metadata": {},
   "outputs": [
    {
     "name": "stdout",
     "output_type": "stream",
     "text": [
      "bla\n"
     ]
    }
   ],
   "source": [
    "const myMagic = {\n",
    "  name: 'bla',\n",
    "  getName: function () {\n",
    "    console.log(this.name)\n",
    "  }\n",
    "}\n",
    "\n",
    "myMagic.getName();"
   ]
  },
  {
   "cell_type": "markdown",
   "metadata": {},
   "source": [
    "## Mustafa Sh\n",
    "\n",
    "Hello there, I was following along  with \"Javascript 30days\"  projects.\n",
    "\n",
    "While he was talking about arrays and objects, he mentioned smth called  \"clonning deep\"  in objects.\n",
    "\n",
    "Can we overview (copying/cloning) in objects?\n",
    "\n",
    "Thank you."
   ]
  },
  {
   "cell_type": "code",
   "execution_count": 5,
   "metadata": {},
   "outputs": [
    {
     "name": "stdout",
     "output_type": "stream",
     "text": [
      "user: [object Object]\n",
      "id:339 \n",
      "name:Fred \n",
      "age:42 \n",
      "education:[object Object] \n"
     ]
    }
   ],
   "source": [
    "const user = {\n",
    "  id: 339,\n",
    "  name: \"Fred\",\n",
    "  age: 42,\n",
    "  education: {\n",
    "    degree: \"Masters\",\n",
    "  },\n",
    "};\n",
    "\n",
    "console.log(`user: ${(user)}`)\n",
    "Object.keys(user).forEach((x) => console.log(`${x}:${user[x]} `));"
   ]
  },
  {
   "cell_type": "markdown",
   "metadata": {},
   "source": [
    "## Ala Alhammadi\n",
    "\n",
    "```\n",
    "function Ala(...num) {\n",
    "    let Result = 0;\n",
    "    for (let i = 0; i < num.length; i++) {\n",
    "        Result += num[i];\n",
    "    }\n",
    "    return `Finle Result is ${Result}`;\n",
    "}\n",
    "console.log(Ala(10, 20, 30, 40, 50, 60, 70, 80));\n",
    "```\n",
    "My questions are\n",
    "\n",
    "1. If I want to add all of those numbers except for example 20 how can I do it?\n",
    "2. and how can we divide those numbers into two arrays one of them odd and the other even?"
   ]
  },
  {
   "cell_type": "code",
   "execution_count": 1,
   "metadata": {},
   "outputs": [
    {
     "name": "stdout",
     "output_type": "stream",
     "text": [
      "new_nums: 10,30,40,50,60,70,80,91\n",
      "oddNums: 91\n",
      "evenNums: 10,20,30,40,50,60,70,80\n"
     ]
    }
   ],
   "source": [
    "const nums = [10, 20, 30, 40, 50, 60, 70, 80, 91];\n",
    "\n",
    "const new_nums = nums.filter((x) => x !== 20);\n",
    "const oddNums = nums.filter(x => x % 2 !== 0)\n",
    "const evenNums = nums.filter((x) => x % 2 === 0);\n",
    "\n",
    "console.log(`new_nums: ${new_nums}`);\n",
    "console.log(`oddNums: ${oddNums}`);\n",
    "console.log(`evenNums: ${evenNums}`);"
   ]
  },
  {
   "cell_type": "markdown",
   "metadata": {},
   "source": [
    "## Chris.Fayad\n",
    "\n",
    "My question for this week is regarding making a copy of a reference type data, how we can make a copy of them and do some changes on the original without affecting the copy?!"
   ]
  },
  {
   "cell_type": "code",
   "execution_count": 2,
   "metadata": {},
   "outputs": [
    {
     "name": "stdout",
     "output_type": "stream",
     "text": [
      "[ 'aaa', 'vvvv' ]\n",
      "[ 'AAA', 'VVVV' ]\n"
     ]
    }
   ],
   "source": [
    "const bla = (arr) => arr.map(x => x.toLowerCase())\n",
    "const a = [\"AAA\", \"VVVV\"];\n",
    "console.log(bla(a));\n",
    "console.log(a);"
   ]
  },
  {
   "cell_type": "markdown",
   "metadata": {},
   "source": [
    "## Osama Bazbooz\n",
    "\n",
    "My questions:\n",
    "\n",
    "* Firstly, which way is better and more commonly used with error catching:\n",
    "\n",
    "\n",
    "1. Throw and Try to Catch\n",
    "2. Catching errors in async/await.\n",
    "\n",
    "\n",
    "\n",
    "* Secondly, in the resting stage, the tester works through a list of pre prepared tests or test cases, so how to identify these test cases, are they created depending on the user usage experience, or we as develpers great the test cases that the tester must check depending on our project ?"
   ]
  },
  {
   "cell_type": "code",
   "execution_count": 3,
   "metadata": {},
   "outputs": [
    {
     "name": "stdout",
     "output_type": "stream",
     "text": [
      "Error: Multiply is not working\n",
      "    at multiply (evalmachine.<anonymous>:2:9)\n",
      "    at evalmachine.<anonymous>:8:13\n",
      "    at Script.runInThisContext (node:vm:129:12)\n",
      "    at Object.runInThisContext (node:vm:305:38)\n",
      "    at run ([eval]:1054:15)\n",
      "    at onRunRequest ([eval]:888:18)\n",
      "    at onMessage ([eval]:848:13)\n",
      "    at process.emit (node:events:390:28)\n",
      "    at emit (node:internal/child_process:917:12)\n",
      "    at processTicksAndRejections (node:internal/process/task_queues:84:21)\n"
     ]
    }
   ],
   "source": [
    "const multiply = () => {\n",
    "  throw new Error(\"Multiply is not working\")\n",
    "}\n",
    "\n",
    "\n",
    "try {\n",
    "  const a = 9\n",
    "  const b = multiply (a, 09)\n",
    "} catch (e) {\n",
    "  console.log(e);\n",
    "}"
   ]
  }
 ],
 "metadata": {
  "kernelspec": {
   "display_name": "Javascript (Node.js)",
   "language": "javascript",
   "name": "javascript"
  },
  "language_info": {
   "file_extension": ".js",
   "mimetype": "application/javascript",
   "name": "javascript",
   "version": "16.10.0"
  },
  "orig_nbformat": 4
 },
 "nbformat": 4,
 "nbformat_minor": 2
}
